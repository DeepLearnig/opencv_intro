{
 "cells": [
  {
   "cell_type": "code",
   "execution_count": null,
   "metadata": {
    "slideshow": {
     "slide_type": "slide"
    }
   },
   "outputs": [],
   "source": [
    "import cv2"
   ]
  },
  {
   "cell_type": "code",
   "execution_count": 2,
   "metadata": {
    "slideshow": {
     "slide_type": "slide"
    }
   },
   "outputs": [],
   "source": [
    "img_color = cv2.imread('data/lena.png', cv2.IMREAD_COLOR)\n",
    "img_gray = cv2.imread('data/lena.png', cv2.IMREAD_GRAYSCALE)"
   ]
  },
  {
   "cell_type": "code",
   "execution_count": 3,
   "metadata": {
    "slideshow": {
     "slide_type": "slide"
    }
   },
   "outputs": [],
   "source": [
    "cap = cv2.VideoCapture('data/shuttle.mp4')\n",
    "\n",
    "ret, frame = cap.read()\n",
    "\n",
    "cap.release()"
   ]
  },
  {
   "cell_type": "code",
   "execution_count": 4,
   "metadata": {
    "slideshow": {
     "slide_type": "slide"
    }
   },
   "outputs": [],
   "source": [
    "cap = cv2.VideoCapture(0)\n",
    "\n",
    "ret, frame = cap.read()\n",
    "\n",
    "cap.release()"
   ]
  },
  {
   "cell_type": "code",
   "execution_count": 5,
   "metadata": {
    "slideshow": {
     "slide_type": "slide"
    }
   },
   "outputs": [],
   "source": [
    "cv2.imshow('color', img_color)\n",
    "cv2.waitKey()\n",
    "cv2.destroyWindow('color')\n",
    "\n",
    "cv2.imshow('gray', img_gray)\n",
    "cv2.waitKey(5000)\n",
    "cv2.destroyAllWindows()"
   ]
  },
  {
   "cell_type": "code",
   "execution_count": 7,
   "metadata": {
    "slideshow": {
     "slide_type": "slide"
    }
   },
   "outputs": [],
   "source": [
    "cap = cv2.VideoCapture('data/shuttle.mp4')\n",
    "\n",
    "while True:\n",
    "    ret, frame = cap.read()\n",
    "    cv2.imshow('video', frame)\n",
    "    if cv2.waitKey(30) == ord('e'):\n",
    "        break\n",
    "\n",
    "cv2.destroyAllWindows()\n",
    "cap.release()"
   ]
  },
  {
   "cell_type": "code",
   "execution_count": 9,
   "metadata": {
    "slideshow": {
     "slide_type": "slide"
    }
   },
   "outputs": [],
   "source": [
    "img_color = cv2.circle(img_color, (256, 256), 10, (0, 255, 0), 5)\n",
    "img_color = cv2.line(img_color, (0, 0), (1024, 1024), (0, 0, 255), 3)\n",
    "img_color = cv2.rectangle(img_color, (100, 100), (250, 350), (255, 0, 0), 3)\n",
    "\n",
    "cv2.imshow('color', img_color)\n",
    "cv2.waitKey()\n",
    "cv2.destroyWindow('color')\n",
    "\n",
    "cv2.imwrite('result.png', img_color)"
   ]
  },
  {
   "cell_type": "code",
   "execution_count": 10,
   "metadata": {
    "slideshow": {
     "slide_type": "slide"
    }
   },
   "outputs": [],
   "source": [
    "import numpy as np"
   ]
  },
  {
   "cell_type": "code",
   "execution_count": 18,
   "metadata": {
    "slideshow": {
     "slide_type": "slide"
    }
   },
   "outputs": [
    {
     "name": "stdout",
     "output_type": "stream",
     "text": [
      "(512, 512, 3)\n",
      "(512, 512)\n"
     ]
    }
   ],
   "source": [
    "print(img_color.shape)\n",
    "print(img_gray.shape)"
   ]
  },
  {
   "cell_type": "code",
   "execution_count": 17,
   "metadata": {
    "slideshow": {
     "slide_type": "slide"
    }
   },
   "outputs": [],
   "source": [
    "img_color[256, 256] = (0, 255, 0)\n",
    "\n",
    "for i in range(100):\n",
    "    for j in range(100):\n",
    "        img_color[i, j] = (0, 255, 0)\n",
    "\n",
    "cv2.imshow('color', img_color)\n",
    "cv2.waitKey()\n",
    "cv2.destroyWindow('color')"
   ]
  },
  {
   "cell_type": "code",
   "execution_count": 21,
   "metadata": {
    "slideshow": {
     "slide_type": "slide"
    }
   },
   "outputs": [],
   "source": [
    "img_color[10:90, 10:90] = 0\n",
    "\n",
    "img_color[400:420, :] = 0\n",
    "\n",
    "cv2.imshow('color', img_color)\n",
    "cv2.waitKey()\n",
    "cv2.destroyWindow('color')"
   ]
  },
  {
   "cell_type": "code",
   "execution_count": 22,
   "metadata": {
    "slideshow": {
     "slide_type": "slide"
    }
   },
   "outputs": [],
   "source": [
    "cv2.imshow('color', img_color[:, :, 0])\n",
    "cv2.waitKey()\n",
    "cv2.destroyWindow('color')"
   ]
  },
  {
   "cell_type": "code",
   "execution_count": 23,
   "metadata": {
    "slideshow": {
     "slide_type": "slide"
    }
   },
   "outputs": [],
   "source": [
    "cv2.imshow('color', img_color[:, :, 1])\n",
    "cv2.waitKey()\n",
    "cv2.destroyWindow('color')"
   ]
  },
  {
   "cell_type": "code",
   "execution_count": 24,
   "metadata": {
    "slideshow": {
     "slide_type": "slide"
    }
   },
   "outputs": [],
   "source": [
    "img = img_gray\n",
    "img[...] = 0 # actually change img_gray\n",
    "\n",
    "img = np.copy(img_color)\n",
    "img[...] = 0"
   ]
  },
  {
   "cell_type": "code",
   "execution_count": 36,
   "metadata": {
    "slideshow": {
     "slide_type": "slide"
    }
   },
   "outputs": [],
   "source": [
    "black = np.zeros((100, 100, 3), dtype=np.uint8)\n",
    "white = 255*np.ones((100, 100, 3), dtype=np.uint8)\n",
    "\n",
    "blue = np.full((100, 100, 3), (255, 0, 0), np.uint8)\n",
    "\n",
    "white_padded = np.pad(white, ((64,)*2, (64,)*2, (0,)*2), 'constant', constant_values=0)"
   ]
  },
  {
   "cell_type": "code",
   "execution_count": 31,
   "metadata": {
    "slideshow": {
     "slide_type": "slide"
    }
   },
   "outputs": [],
   "source": [
    "np.save('white.npy', white)\n",
    "white_loaded = np.load('white.npy')\n",
    "assert (white == white_loaded).all()"
   ]
  },
  {
   "cell_type": "code",
   "execution_count": null,
   "metadata": {
    "slideshow": {
     "slide_type": "slide"
    }
   },
   "outputs": [],
   "source": [
    "img_h = np.hstack((black, white))\n",
    "img_v = np.vstack((black, white))"
   ]
  },
  {
   "cell_type": "code",
   "execution_count": 32,
   "metadata": {
    "slideshow": {
     "slide_type": "slide"
    }
   },
   "outputs": [
    {
     "name": "stdout",
     "output_type": "stream",
     "text": [
      "3.141592653589793\n"
     ]
    }
   ],
   "source": [
    "print(np.pi)"
   ]
  }
 ],
 "metadata": {
  "kernelspec": {
   "display_name": "Python 3",
   "language": "python",
   "name": "python3"
  },
  "language_info": {
   "codemirror_mode": {
    "name": "ipython",
    "version": 3
   },
   "file_extension": ".py",
   "mimetype": "text/x-python",
   "name": "python",
   "nbconvert_exporter": "python",
   "pygments_lexer": "ipython3",
   "version": "3.5.2"
  }
 },
 "nbformat": 4,
 "nbformat_minor": 2
}
