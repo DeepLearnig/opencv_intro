{
 "cells": [
  {
   "cell_type": "code",
   "execution_count": 1,
   "metadata": {},
   "outputs": [],
   "source": [
    "import cv2\n",
    "import cv2.aruco as aruco\n",
    "import numpy as np"
   ]
  },
  {
   "cell_type": "code",
   "execution_count": 2,
   "metadata": {},
   "outputs": [
    {
     "data": {
      "text/plain": [
       "True"
      ]
     },
     "execution_count": 2,
     "metadata": {},
     "output_type": "execute_result"
    }
   ],
   "source": [
    "aruco_dict = aruco.getPredefinedDictionary(aruco.DICT_6X6_1000)\n",
    "marker_42 = aruco.drawMarker(aruco_dict, 42, 500)\n",
    "marker_42 = np.pad(marker_42, 50, 'constant', constant_values=255)\n",
    "\n",
    "cv2.imshow('', marker_42)\n",
    "cv2.waitKey()\n",
    "cv2.destroyAllWindows()\n",
    "cv2.imwrite('data/marker_42_DICT_6X6_1000.png', marker_42)"
   ]
  },
  {
   "cell_type": "code",
   "execution_count": 28,
   "metadata": {},
   "outputs": [],
   "source": [
    "cap = cv2.VideoCapture(0)\n",
    "\n",
    "while True:\n",
    "    ret, frame = cap.read()\n",
    "    cv2.imshow('', frame)\n",
    "    if cv2.waitKey(30) == ord('s'):\n",
    "        cv2.imwrite('data/marker_42_0.0078.png', frame)\n",
    "        break\n",
    "\n",
    "cv2.destroyAllWindows()\n",
    "cap.release()"
   ]
  },
  {
   "cell_type": "code",
   "execution_count": 3,
   "metadata": {},
   "outputs": [],
   "source": [
    "marker_img = cv2.imread('data/marker_42_0.0078.png')\n",
    "\n",
    "detect_params = aruco.DetectorParameters_create()\n",
    "detect_params.cornerRefinementMethod = aruco.CORNER_REFINE_SUBPIX\n",
    "detect_params.cornerRefinementWinSize = 15\n",
    "corners, ids, _ = aruco.detectMarkers(marker_img, aruco_dict, None, None, detect_params)\n",
    "detected_m_img = aruco.drawDetectedMarkers(marker_img, corners, ids, (0, 255, 0))\n",
    "\n",
    "cv2.imshow('', detected_m_img)\n",
    "cv2.waitKey()\n",
    "cv2.destroyAllWindows()"
   ]
  },
  {
   "cell_type": "code",
   "execution_count": 5,
   "metadata": {},
   "outputs": [],
   "source": [
    "camera_matrix = np.load('data/camera_mat.npy')\n",
    "dist_coefs = np.load('data/dist_coefs.npy')\n",
    "\n",
    "rvecs, tvecs, _ = aruco.estimatePoseSingleMarkers(corners, 0.0078, camera_matrix, dist_coefs)"
   ]
  },
  {
   "cell_type": "code",
   "execution_count": 6,
   "metadata": {},
   "outputs": [],
   "source": [
    "detected_m_img = aruco.drawAxis(detected_m_img, camera_matrix, dist_coefs, rvecs[0], tvecs[0], 0.005)\n",
    "\n",
    "cv2.imshow('', detected_m_img)\n",
    "cv2.waitKey()\n",
    "cv2.destroyAllWindows()"
   ]
  },
  {
   "cell_type": "code",
   "execution_count": null,
   "metadata": {},
   "outputs": [],
   "source": []
  }
 ],
 "metadata": {
  "kernelspec": {
   "display_name": "Python 3",
   "language": "python",
   "name": "python3"
  },
  "language_info": {
   "codemirror_mode": {
    "name": "ipython",
    "version": 3
   },
   "file_extension": ".py",
   "mimetype": "text/x-python",
   "name": "python",
   "nbconvert_exporter": "python",
   "pygments_lexer": "ipython3",
   "version": "3.5.2"
  }
 },
 "nbformat": 4,
 "nbformat_minor": 2
}
