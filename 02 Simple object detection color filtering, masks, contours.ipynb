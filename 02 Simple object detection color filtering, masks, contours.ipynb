{
 "cells": [
  {
   "cell_type": "code",
   "execution_count": 14,
   "metadata": {},
   "outputs": [],
   "source": [
    "import cv2\n",
    "import numpy as np"
   ]
  },
  {
   "cell_type": "code",
   "execution_count": 15,
   "metadata": {},
   "outputs": [],
   "source": [
    "img_bgr = cv2.imread('data/lena.png', cv2.IMREAD_COLOR)\n",
    "img_rgb = cv2.cvtColor(img_bgr, cv2.COLOR_BGR2RGB)\n",
    "img_hsv = cv2.cvtColor(img_bgr, cv2.COLOR_BGR2HSV)\n",
    "img_gray = cv2.cvtColor(img_bgr, cv2.COLOR_BGR2GRAY)"
   ]
  },
  {
   "cell_type": "code",
   "execution_count": 16,
   "metadata": {},
   "outputs": [],
   "source": [
    "img_rgb_fp32 = img_rgb.astype(np.float32)\n",
    "cv2.imshow('rgb float', img_rgb_fp32)\n",
    "cv2.imshow('rgb float/255', img_rgb_fp32 / 255)\n",
    "cv2.waitKey()\n",
    "cv2.destroyAllWindows()"
   ]
  },
  {
   "cell_type": "code",
   "execution_count": 17,
   "metadata": {},
   "outputs": [],
   "source": [
    "duck_0 = cv2.imread('data/duck_0.jpg')\n",
    "duck_0_hsv = cv2.cvtColor(duck_0, cv2.COLOR_BGR2HSV)\n",
    "\n",
    "dark_yellow = np.array([15, 100, 100])\n",
    "light_yellow = np.array([50, 255, 255])\n",
    "\n",
    "mask = cv2.inRange(duck_0_hsv, dark_yellow, light_yellow)\n",
    "duck_0_masked = np.copy(duck_0)\n",
    "duck_0_masked[mask == 0] = 0\n",
    "\n",
    "cv2.imshow('', duck_0_masked)\n",
    "cv2.waitKey()\n",
    "cv2.destroyAllWindows()"
   ]
  },
  {
   "cell_type": "code",
   "execution_count": 18,
   "metadata": {},
   "outputs": [],
   "source": [
    "kernel_open = cv2.getStructuringElement(cv2.MORPH_ELLIPSE, (10, 10))\n",
    "kernel_close = cv2.getStructuringElement(cv2.MORPH_ELLIPSE, (50, 50))\n",
    "mask = cv2.morphologyEx(mask, cv2.MORPH_OPEN, kernel_open)\n",
    "mask = cv2.morphologyEx(mask, cv2.MORPH_CLOSE, kernel_close)\n",
    "\n",
    "duck_0_masked = np.copy(duck_0)\n",
    "duck_0_masked[mask == 0] = 0\n",
    "\n",
    "cv2.imshow('', duck_0_masked)\n",
    "cv2.waitKey()\n",
    "cv2.destroyAllWindows()"
   ]
  },
  {
   "cell_type": "code",
   "execution_count": 19,
   "metadata": {},
   "outputs": [],
   "source": [
    "img, contours, hierarchy = cv2.findContours(mask, cv2.RETR_TREE, cv2.CHAIN_APPROX_SIMPLE)\n",
    "\n",
    "contour_duck_index = max(range(len(contours)), key=lambda i: cv2.arcLength(contours[i], True))\n",
    "\n",
    "hierarchy = hierarchy.squeeze()\n",
    "\n",
    "contour_eye_index = -1\n",
    "for i in range(len(hierarchy)):\n",
    "    if hierarchy[i][2] < 0 and hierarchy[i][3] == contour_duck_index:\n",
    "        contour_eye_index = i\n",
    "        break\n",
    "\n",
    "duck_0_masked = cv2.drawContours(duck_0_masked, contours, contour_duck_index, (0, 255, 0), 4)\n",
    "duck_0_masked = cv2.drawContours(duck_0_masked, contours, contour_eye_index, (0, 0, 255), 4)\n",
    "\n",
    "cv2.imshow('', duck_0_masked)\n",
    "cv2.waitKey()\n",
    "cv2.destroyAllWindows()"
   ]
  },
  {
   "cell_type": "code",
   "execution_count": null,
   "metadata": {},
   "outputs": [],
   "source": []
  }
 ],
 "metadata": {
  "kernelspec": {
   "display_name": "Python 3",
   "language": "python",
   "name": "python3"
  },
  "language_info": {
   "codemirror_mode": {
    "name": "ipython",
    "version": 3
   },
   "file_extension": ".py",
   "mimetype": "text/x-python",
   "name": "python",
   "nbconvert_exporter": "python",
   "pygments_lexer": "ipython3",
   "version": "3.5.2"
  }
 },
 "nbformat": 4,
 "nbformat_minor": 2
}
