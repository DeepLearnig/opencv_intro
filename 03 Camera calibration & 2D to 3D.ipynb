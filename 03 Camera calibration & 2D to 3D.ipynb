{
 "cells": [
  {
   "cell_type": "code",
   "execution_count": 2,
   "metadata": {},
   "outputs": [],
   "source": [
    "import cv2\n",
    "import numpy as np"
   ]
  },
  {
   "cell_type": "code",
   "execution_count": 3,
   "metadata": {},
   "outputs": [],
   "source": [
    "img = cv2.imread('data/chessboard.png')\n",
    "pattern_size = (10, 7)\n",
    "\n",
    "res, corners = cv2.findChessboardCorners(img, pattern_size)\n",
    "\n",
    "criteria = (cv2.TERM_CRITERIA_EPS + cv2.TERM_CRITERIA_MAX_ITER, 30, 1e-3)\n",
    "\n",
    "corners_subpix = cv2.cornerSubPix(cv2.cvtColor(img, cv2.COLOR_BGR2GRAY), corners, (10, 10), (-1,-1), criteria)\n",
    "\n",
    "for c in corners.squeeze():\n",
    "    img = cv2.circle(img, tuple(c), 10, (0, 0, 255))\n",
    "cv2.drawChessboardCorners(img, pattern_size, corners_subpix, res)\n",
    "\n",
    "cv2.imshow('', img)\n",
    "cv2.waitKey()\n",
    "cv2.destroyAllWindows()"
   ]
  },
  {
   "cell_type": "code",
   "execution_count": 9,
   "metadata": {},
   "outputs": [],
   "source": [
    "pattern_points = np.zeros((np.prod(pattern_size), 3), np.float32)\n",
    "pattern_points[:, :2] = np.indices(pattern_size).T.reshape(-1, 2)\n",
    "\n",
    "rms, camera_matrix, dist_coefs, rvecs, tvecs = \\\n",
    "    cv2.calibrateCamera([pattern_points], [corners_subpix], img[0].shape, None, None)"
   ]
  },
  {
   "cell_type": "code",
   "execution_count": 9,
   "metadata": {},
   "outputs": [],
   "source": [
    "img = cv2.imread('data/chessboard.png')\n",
    "camera_matrix = np.load('data/camera_mat.npy')\n",
    "dist_coefs = np.load('data/dist_coefs.npy')\n",
    "\n",
    "img_undistorted = cv2.undistort(img, camera_matrix, dist_coefs)\n",
    "cv2.imshow('', img_undistorted)\n",
    "cv2.waitKey()\n",
    "cv2.destroyAllWindows()"
   ]
  },
  {
   "cell_type": "code",
   "execution_count": 10,
   "metadata": {},
   "outputs": [
    {
     "name": "stdout",
     "output_type": "stream",
     "text": [
      "[[-0.16817029 -0.11604928]]\n"
     ]
    }
   ],
   "source": [
    "ud_corners = cv2.undistortPoints(corners_subpix, camera_matrix, dist_coefs)\n",
    "print(ud_corners[0])"
   ]
  },
  {
   "cell_type": "code",
   "execution_count": 11,
   "metadata": {},
   "outputs": [],
   "source": [
    "ud_corners = np.c_[ud_corners.squeeze(), np.ones(len(ud_corners))]\n",
    "\n",
    "img_pts, _ = cv2.projectPoints(ud_corners, (0, 0, 0), (0, 0, 0), camera_matrix, None)\n",
    "\n",
    "for c in img_pts.squeeze().astype(np.float32):\n",
    "    cv2.circle(img_undistorted, tuple(c), 5, (0, 0, 255), 2)\n",
    "\n",
    "cv2.imshow('', img_undistorted)\n",
    "cv2.waitKey()\n",
    "cv2.destroyAllWindows()"
   ]
  },
  {
   "cell_type": "code",
   "execution_count": 13,
   "metadata": {},
   "outputs": [],
   "source": [
    "img_pts = ud_corners @ camera_matrix.T\n",
    "img_pts /= img_pts[:, 2, None]\n",
    "\n",
    "img_pts = img_pts[:, :2]\n",
    "\n",
    "for c in img_pts.squeeze().astype(np.float32):\n",
    "    cv2.circle(img_undistorted, tuple(c), 5, (0, 255, 0), 2)\n",
    "    \n",
    "cv2.imshow('', img_undistorted)\n",
    "cv2.waitKey()\n",
    "cv2.destroyAllWindows()"
   ]
  },
  {
   "cell_type": "code",
   "execution_count": 24,
   "metadata": {},
   "outputs": [],
   "source": [
    "ret, rvec, tvec = cv2.solvePnP(pattern_points, corners_subpix, camera_matrix, dist_coefs)"
   ]
  },
  {
   "cell_type": "code",
   "execution_count": null,
   "metadata": {},
   "outputs": [],
   "source": []
  }
 ],
 "metadata": {
  "kernelspec": {
   "display_name": "Python 3",
   "language": "python",
   "name": "python3"
  },
  "language_info": {
   "codemirror_mode": {
    "name": "ipython",
    "version": 3
   },
   "file_extension": ".py",
   "mimetype": "text/x-python",
   "name": "python",
   "nbconvert_exporter": "python",
   "pygments_lexer": "ipython3",
   "version": "3.5.2"
  }
 },
 "nbformat": 4,
 "nbformat_minor": 2
}
